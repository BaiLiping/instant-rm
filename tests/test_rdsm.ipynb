{
 "cells": [
  {
   "cell_type": "markdown",
   "id": "b2822e0f-5e50-4f7e-89fc-b4bc2fbce147",
   "metadata": {},
   "source": [
    "# Test root mean square delay spread (RMS DS) map"
   ]
  },
  {
   "cell_type": "markdown",
   "id": "760ed12f-a37d-4aa3-bc90-cfd5b06f20c2",
   "metadata": {},
   "source": [
    "Testing is done by:\n",
    "- Consering a small and single-cell map computed by the evaluated tracer\n",
    "- Placing a Sionna receiver in the center of the map\n",
    "\n",
    "The RMS-DS computed by the evaluated tracer should match the one computed from the channel impulse response (CIR) computed by Sionna for the receiver located at the center of the map."
   ]
  },
  {
   "cell_type": "code",
   "execution_count": 1,
   "id": "f38f046e-966d-4f2c-a27d-084b794315e4",
   "metadata": {},
   "outputs": [],
   "source": [
    "import os\n",
    "gpu_num = 0 # Use \"\" to use the CPU\n",
    "os.environ[\"CUDA_VISIBLE_DEVICES\"] = f\"{gpu_num}\"\n",
    "os.environ['TF_CPP_MIN_LOG_LEVEL'] = '3'\n",
    "\n",
    "import tensorflow as tf\n",
    "gpus = tf.config.list_physical_devices('GPU')\n",
    "tf.config.experimental.set_memory_growth(gpus[0], True)"
   ]
  },
  {
   "cell_type": "code",
   "execution_count": 2,
   "id": "e8b7d6ae-1bef-435d-b087-c5a7c92de925",
   "metadata": {},
   "outputs": [],
   "source": [
    "%matplotlib inline\n",
    "import matplotlib.pyplot as plt\n",
    "import numpy as np\n",
    "import mitsuba as mi\n",
    "import pickle\n",
    "\n",
    "from sionna.rt import Scene, Transmitter, PlanarArray, Receiver\n",
    "from instant_rm import MapTracer"
   ]
  },
  {
   "cell_type": "code",
   "execution_count": 3,
   "id": "0f426155-1b3f-4c7b-8101-b3dfdaf954ac",
   "metadata": {},
   "outputs": [],
   "source": [
    "# Test configuration\n",
    "\n",
    "scene_file = \"../scenes/box/box.xml\"\n",
    "\n",
    "tx_position = np.array([1.0, 0.0, 4.0])\n",
    "tx_orientation = np.array([0.0, 0.0, 0.0])\n",
    "tx_pattern = 'iso'\n",
    "fc = 3.5e9\n",
    "tx_slant_angle = 0.0\n",
    "\n",
    "cm_center = np.array([0.0, 0.0, 1.0])\n",
    "cm_orientation = np.array([0., 0., 0.])\n",
    "cm_size = np.array([0.05, 0.05]) # Small CM with a single cell\n",
    "cm_cell_size = cm_size\n",
    "\n",
    "# Testing is done for multiple values of the maximum depth\n",
    "max_depths = [1,2,3,4,5,6,7,8,9,10]\n",
    "\n",
    "# Number of samples used to generate the reference RMS-DS with\n",
    "# Sionna\n",
    "num_samples_ref = int(1e6)\n",
    "\n",
    "# Number of samples used for the evaluated tracer\n",
    "num_samples_eval = int(1e9)"
   ]
  },
  {
   "cell_type": "code",
   "execution_count": 4,
   "id": "8e41a122-91ef-44ac-ae82-059eceb653cd",
   "metadata": {},
   "outputs": [],
   "source": [
    "# Utility to compute the RMS-DS from a CIR\n",
    "def compute_rms_ds(a, tau):\n",
    "    \n",
    "    # Total power\n",
    "    p = np.sum(a, axis=-1, keepdims=True)\n",
    "    \n",
    "    # RMS delay spread\n",
    "    tau_bar = np.sum(a*tau, axis=-1, keepdims=True)/p\n",
    "    rms_ds = np.sqrt(np.sum(a*np.square(tau - tau_bar), axis=-1, keepdims=True)/p)\n",
    "\n",
    "    rms_ds = np.squeeze(rms_ds, axis=-1)\n",
    "    \n",
    "    return rms_ds"
   ]
  },
  {
   "cell_type": "code",
   "execution_count": 5,
   "id": "badf646e-e632-4ad2-b63f-df5d9804823a",
   "metadata": {},
   "outputs": [],
   "source": [
    "# Sionna is used to generate reference RMS-DS\n",
    "\n",
    "sn_scene = Scene(scene_file)\n",
    "sn_scene.frequency = fc\n",
    "\n",
    "# Configure antenna array for all transmitters\n",
    "sn_scene.tx_array = PlanarArray(num_rows=1,\n",
    "                                num_cols=1,\n",
    "                                vertical_spacing=0.5,\n",
    "                                horizontal_spacing=0.5,\n",
    "                                pattern=tx_pattern,\n",
    "                                polarization=\"V\",\n",
    "                                polarization_model=2)\n",
    "\n",
    "# Configure antenna array for all receivers\n",
    "sn_scene.rx_array = PlanarArray(num_rows=1,\n",
    "                                num_cols=1,\n",
    "                                vertical_spacing=0.5,\n",
    "                                horizontal_spacing=0.5,\n",
    "                                pattern=\"iso\",\n",
    "                                polarization=\"VH\",\n",
    "                                polarization_model=2)\n",
    "# Add a transmitters\n",
    "tx = Transmitter(name=\"tx\",\n",
    "                 position=tx_position,\n",
    "                 orientation=tx_orientation)\n",
    "sn_scene.add(tx)\n",
    "\n",
    "rx = Receiver(name=f\"rx-\",\n",
    "                 position=cm_center,\n",
    "                 orientation=[0.0,0.0,0.0])\n",
    "sn_scene.add(rx)"
   ]
  },
  {
   "cell_type": "code",
   "execution_count": 6,
   "id": "5874cae1-371e-496e-89be-a6e68f885361",
   "metadata": {},
   "outputs": [],
   "source": [
    "# Load Mitsuba scene\n",
    "mi_scene = mi.load_file(scene_file)"
   ]
  },
  {
   "cell_type": "code",
   "execution_count": 7,
   "id": "6bcf09f0-8e6b-4cb8-a0b0-423177728401",
   "metadata": {},
   "outputs": [],
   "source": [
    "vals_rms_ds = []\n",
    "vals_rms_ds_ref = []\n",
    "for max_depth in max_depths:\n",
    "\n",
    "    ## Reference with Sionna\n",
    "    \n",
    "    # Compute CIR\n",
    "    paths = sn_scene.compute_paths(max_depth=max_depth, num_samples=num_samples_ref,\n",
    "                                   check_scene=False, los=True, diffraction=False, scattering=False)\n",
    "    a = paths.a.numpy()[0,:,:,0,0,:,0]\n",
    "    # [num_rx, num_paths]\n",
    "    a = np.sum(np.square(np.abs(a)), axis=1)\n",
    "    tau = paths.tau.numpy()[0,:,0]*1e9\n",
    "    \n",
    "    # Compute reference RMS-DS\n",
    "    rms_ds_ref = compute_rms_ds(a,tau)\n",
    "    vals_rms_ds_ref.append(rms_ds_ref)\n",
    "\n",
    "    ## Value from the traced RMS-DS map\n",
    "\n",
    "    tracer = MapTracer(mi_scene, fc,\n",
    "                       tx_pattern, tx_slant_angle,\n",
    "                       cm_center, cm_orientation, cm_size, cm_cell_size,\n",
    "                       num_samples_eval, max_depth)\n",
    "    \n",
    "    # Trace the RMS-DS map\n",
    "    _, rdsm,_,_ = tracer(tx_position, tx_orientation)\n",
    "    rms_ds = rdsm.numpy()[0,0]\n",
    "    vals_rms_ds.append(rms_ds)"
   ]
  },
  {
   "cell_type": "code",
   "execution_count": 8,
   "id": "f975fbe8-e627-4dce-85ba-8b0c78414fbd",
   "metadata": {},
   "outputs": [
    {
     "data": {
      "text/plain": [
       "<matplotlib.legend.Legend at 0x7fc5c5afd410>"
      ]
     },
     "execution_count": 8,
     "metadata": {},
     "output_type": "execute_result"
    },
    {
     "data": {
      "image/png": "[encoded data removed]",
      "text/plain": [
       "<Figure size 640x480 with 1 Axes>"
      ]
     },
     "metadata": {},
     "output_type": "display_data"
    }
   ],
   "source": [
    "plt.figure()\n",
    "plt.plot(max_depths, vals_rms_ds_ref, 'd-', label=\"Reference\")\n",
    "plt.plot(max_depths, vals_rms_ds, 'x--', label=\"Evaluated tracer\")\n",
    "plt.xlabel(\"Max depth\")\n",
    "plt.ylabel(\"RMS DS [ns]\")\n",
    "plt.grid(True)\n",
    "plt.legend()"
   ]
  }
 ],
 "metadata": {
  "kernelspec": {
   "display_name": "Python 3 (ipykernel)",
   "language": "python",
   "name": "python3"
  },
  "language_info": {
   "codemirror_mode": {
    "name": "ipython",
    "version": 3
   },
   "file_extension": ".py",
   "mimetype": "text/x-python",
   "name": "python",
   "nbconvert_exporter": "python",
   "pygments_lexer": "ipython3",
   "version": "3.11.0rc1"
  }
 },
 "nbformat": 4,
 "nbformat_minor": 5
}
