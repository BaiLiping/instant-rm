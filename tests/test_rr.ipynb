{
 "cells": [
  {
   "cell_type": "markdown",
   "id": "0d4046fc",
   "metadata": {},
   "source": [
    "# Test Russian Roulette (RR)"
   ]
  },
  {
   "cell_type": "markdown",
   "id": "91b09a87-687b-48eb-b11c-dfab1a7efb99",
   "metadata": {},
   "source": [
    "This test ensures that as the path depth at which RR starts increased, the errors due to its use vanishes"
   ]
  },
  {
   "cell_type": "code",
   "execution_count": 1,
   "id": "ad6af74f",
   "metadata": {
    "tags": []
   },
   "outputs": [],
   "source": [
    "import os\n",
    "gpu_num = 0 # Use \"\" to use the CPU\n",
    "os.environ[\"CUDA_VISIBLE_DEVICES\"] = f\"{gpu_num}\"\n",
    "os.environ['TF_CPP_MIN_LOG_LEVEL'] = '3'"
   ]
  },
  {
   "cell_type": "code",
   "execution_count": 2,
   "id": "264485f6",
   "metadata": {
    "tags": []
   },
   "outputs": [],
   "source": [
    "%matplotlib inline\n",
    "import matplotlib.pyplot as plt\n",
    "import numpy as np\n",
    "\n",
    "import mitsuba as mi\n",
    "import drjit as dr\n",
    "\n",
    "from sionna.rt import Scene, Transmitter, PlanarArray, Receiver\n",
    "from instant_rm import MapTracer"
   ]
  },
  {
   "cell_type": "code",
   "execution_count": 3,
   "id": "a57344b3",
   "metadata": {},
   "outputs": [],
   "source": [
    "# Setup scene\n",
    "\n",
    "scene_file = \"../scenes/box_multi/box_multi.xml\"\n",
    "tx_position = np.array([0., 0., 4.0])\n",
    "tx_orientation = np.array([0.0, 0.0, 0.0])\n",
    "tx_pattern = 'iso'\n",
    "fc = 3.5e9\n",
    "tx_slant_angle = 0.0\n",
    "\n",
    "# Path loss map used for evaluation\n",
    "cm_center = np.array([0., 0., 1.0])\n",
    "cm_orientation = np.array([0., 0., 0.])\n",
    "cm_size = np.array([12., 12.])\n",
    "cm_cell_size = np.array([0.1, 0.1])\n",
    "\n",
    "num_samples = int(1e7)\n",
    "max_depth = 10\n",
    "\n",
    "# Probability of terminating rays for the RR\n",
    "rr_prob = 0.95\n",
    "# Path depth at which RR starts\n",
    "rr_depths = [-1, 1, 3, 5, 7] # -1 means no RR\n",
    "\n",
    "scene = mi.load_file(scene_file)\n",
    "params = mi.traverse(scene)\n",
    "\n",
    "# Compute material complex relative permittivities to ensure that\n",
    "# Sionna and the evaluated tracer scene use the same values\n",
    "eta_complex_mats = {}\n",
    "scene = mi.load_file(scene_file)\n",
    "#\n",
    "eta_r = mi.traverse(scene)['mat-itu_concrete.eta_r'].numpy()[0]\n",
    "eta_i = mi.traverse(scene)['mat-itu_concrete.eta_i'].numpy()[0]\n",
    "eta_complex_mats['itu_concrete'] = eta_r - 1j*eta_i\n",
    "#\n",
    "eta_r = mi.traverse(scene)['mat-itu_marble.eta_r'].numpy()[0]\n",
    "eta_i = mi.traverse(scene)['mat-itu_marble.eta_i'].numpy()[0]\n",
    "eta_complex_mats['itu_marble'] = eta_r - 1j*eta_i\n",
    "#\n",
    "eta_r = mi.traverse(scene)['mat-itu_wood.eta_r'].numpy()[0]\n",
    "eta_i = mi.traverse(scene)['mat-itu_wood.eta_i'].numpy()[0]\n",
    "eta_complex_mats['itu_wood'] = eta_r - 1j*eta_i\n",
    "#\n",
    "eta_r = mi.traverse(scene)['mat-itu_brick.eta_r'].numpy()[0]\n",
    "eta_i = mi.traverse(scene)['mat-itu_brick.eta_i'].numpy()[0]\n",
    "eta_complex_mats['itu_brick'] = eta_r - 1j*eta_i"
   ]
  },
  {
   "cell_type": "code",
   "execution_count": 4,
   "id": "89c7f8b0",
   "metadata": {},
   "outputs": [
    {
     "name": "stderr",
     "output_type": "stream",
     "text": [
      "/tmp/ipykernel_935354/467723139.py:11: RuntimeWarning: divide by zero encountered in log10\n",
      "  cm_db = 10.0*np.log10(cm.numpy()).T\n"
     ]
    }
   ],
   "source": [
    "# Trace the RMS-DS map\n",
    "cms_db = {}\n",
    "for rr_depth in rr_depths:\n",
    "\n",
    "    tracer = MapTracer(scene, fc, tx_pattern, tx_slant_angle,\n",
    "                       cm_center, cm_orientation, cm_size, cm_cell_size,\n",
    "                       num_samples, max_depth,\n",
    "                       rr_depth=rr_depth, rr_prob=rr_prob)\n",
    "\n",
    "    cm,_,_,_ = tracer(tx_position, tx_orientation, los=False, loop_record=False)\n",
    "    cm_db = 10.0*np.log10(cm.numpy()).T\n",
    "    cms_db[rr_depth] = cm_db"
   ]
  },
  {
   "cell_type": "code",
   "execution_count": 5,
   "id": "cfbf30a0",
   "metadata": {},
   "outputs": [
    {
     "name": "stdout",
     "output_type": "stream",
     "text": [
      "Mistmatch for complex relative permittivity of material itu_concrete : 0.0\n",
      "Mistmatch for complex relative permittivity of material itu_brick : 0.0\n",
      "Mistmatch for complex relative permittivity of material itu_wood : 0.0\n",
      "Mistmatch for complex relative permittivity of material itu_marble : 0.0\n"
     ]
    },
    {
     "name": "stderr",
     "output_type": "stream",
     "text": [
      "/tmp/ipykernel_935354/1897294848.py:40: RuntimeWarning: divide by zero encountered in log10\n",
      "  cm_ref_db = 10.0*np.log10(cm_ref)\n"
     ]
    }
   ],
   "source": [
    "# Sionna as reference\n",
    "\n",
    "scene = Scene(scene_file)\n",
    "scene.frequency = fc\n",
    "\n",
    "for rm_name, rm in scene.radio_materials.items():\n",
    "    if not rm.is_used:\n",
    "        continue\n",
    "    err = np.abs(rm.complex_relative_permittivity - eta_complex_mats[rm_name])\n",
    "    print(f\"Mistmatch for complex relative permittivity of material {rm_name} : {err}\")\n",
    "\n",
    "# Configure antenna array for all transmitters\n",
    "scene.tx_array = PlanarArray(num_rows=1,\n",
    "                             num_cols=1,\n",
    "                             vertical_spacing=0.5,\n",
    "                             horizontal_spacing=0.5,\n",
    "                             pattern=tx_pattern,\n",
    "                             polarization=\"V\",\n",
    "                             polarization_model=2)\n",
    "\n",
    "# Configure antenna array for all receivers\n",
    "scene.rx_array = PlanarArray(num_rows=1,\n",
    "                             num_cols=1,\n",
    "                             vertical_spacing=0.5,\n",
    "                             horizontal_spacing=0.5,\n",
    "                             pattern=\"iso\",\n",
    "                             polarization=\"VH\",\n",
    "                             polarization_model=2)\n",
    "# Add a transmitters\n",
    "tx = Transmitter(name=\"tx\",\n",
    "                 position=tx_position,\n",
    "                 orientation=tx_orientation)\n",
    "scene.add(tx)\n",
    "\n",
    "# Compute path loss map\n",
    "cm_ref = scene.coverage_map(cm_center=cm_center, cm_orientation=cm_orientation, cm_size=cm_size,\n",
    "                            cm_cell_size=cm_cell_size, num_samples=num_samples, max_depth=max_depth,\n",
    "                            check_scene=False, los=False, diffraction=False, scattering=False)\n",
    "cm_ref = cm_ref.as_tensor().numpy()[0]\n",
    "cm_ref_db = 10.0*np.log10(cm_ref)"
   ]
  },
  {
   "cell_type": "code",
   "execution_count": 6,
   "id": "5a30cf51",
   "metadata": {},
   "outputs": [
    {
     "name": "stderr",
     "output_type": "stream",
     "text": [
      "/tmp/ipykernel_935354/1300449479.py:8: RuntimeWarning: invalid value encountered in subtract\n",
      "  err_map = np.abs(cm_ref_db - cm_db)\n"
     ]
    },
    {
     "data": {
      "image/png": "[encoded data removed]",
      "text/plain": [
       "<Figure size 640x480 with 1 Axes>"
      ]
     },
     "metadata": {},
     "output_type": "display_data"
    }
   ],
   "source": [
    "# Plots the CDF of the absolute logarithmic error for all evaluated depths\n",
    "plt.figure()\n",
    "plt.xlabel(\"ALE [dB]\")\n",
    "plt.ylabel(\"CDF\")\n",
    "plt.grid(True)\n",
    "for rr_depth in rr_depths:\n",
    "    cm_db = cms_db[rr_depth]\n",
    "    err_map = np.abs(cm_ref_db - cm_db)\n",
    "    err_valid = np.logical_not(np.logical_or(np.isnan(err_map), np.isinf(err_map)))\n",
    "    err = err_map[err_valid]\n",
    "    err = err.flatten()\n",
    "    plt.hist(err, bins=1000, cumulative=True, density=True, histtype='step', label=f\"RR depth: {rr_depth}\");\n",
    "plt.legend()\n",
    "plt.xlim([-0.01, 0.3]);"
   ]
  }
 ],
 "metadata": {
  "interpreter": {
   "hash": "4cd7ab41f5fca4b9b44701077e38c5ffd31fe66a6cab21e0214b68d958d0e462"
  },
  "kernelspec": {
   "display_name": "Python 3 (ipykernel)",
   "language": "python",
   "name": "python3"
  },
  "language_info": {
   "codemirror_mode": {
    "name": "ipython",
    "version": 3
   },
   "file_extension": ".py",
   "mimetype": "text/x-python",
   "name": "python",
   "nbconvert_exporter": "python",
   "pygments_lexer": "ipython3",
   "version": "3.11.0rc1"
  },
  "vscode": {
   "interpreter": {
    "hash": "e7370f93d1d0cde622a1f8e1c04877d8463912d04d973331ad4851f04de6915a"
   }
  },
  "widgets": {
   "application/vnd.jupyter.widget-state+json": {
    "state": {},
    "version_major": 2,
    "version_minor": 0
   }
  }
 },
 "nbformat": 4,
 "nbformat_minor": 5
}
